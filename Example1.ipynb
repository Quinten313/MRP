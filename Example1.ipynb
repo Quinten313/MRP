{
 "cells": [
  {
   "cell_type": "code",
   "execution_count": 2,
   "id": "83b57271-3fa5-492d-9777-41e8e75bbb35",
   "metadata": {},
   "outputs": [],
   "source": [
    "import swiftsimio as sw\n",
    "from matplotlib import pyplot as plt\n",
    "import numpy as np"
   ]
  },
  {
   "cell_type": "code",
   "execution_count": 3,
   "id": "86b17d15-a95a-4107-b8e9-375b7ea7df82",
   "metadata": {},
   "outputs": [],
   "source": [
    "data = sw.load('SOAP/hydro_fiducial/halo_properties_0077.hdf5')"
   ]
  },
  {
   "cell_type": "code",
   "execution_count": 4,
   "id": "de5d5e28-153b-40ac-ba4e-f55aa0c995f9",
   "metadata": {},
   "outputs": [],
   "source": [
    "halo_mass_200mean = data.spherical_overdensity_200_mean.total_mass.to('Msun')"
   ]
  },
  {
   "cell_type": "code",
   "execution_count": 6,
   "id": "340a0dd1-345b-459e-a796-cc90db99d928",
   "metadata": {},
   "outputs": [
    {
     "data": {
      "image/png": "[encoded data removed]",
      "text/plain": [
       "<Figure size 400x400 with 1 Axes>"
      ]
     },
     "metadata": {},
     "output_type": "display_data"
    },
    {
     "name": "stdout",
     "output_type": "stream",
     "text": [
      "15.583752\n",
      "9.643877\n"
     ]
    }
   ],
   "source": [
    "fig, ax = plt.subplots(1,1,figsize=[4,4])\n",
    "\n",
    "ax.hist(np.log10(halo_mass_200mean[halo_mass_200mean != 0]), bins=np.linspace(9.5,16,15))\n",
    "ax.set(\n",
    "    yscale='log',\n",
    "    xlim=[9,16],\n",
    ")\n",
    "plt.show()\n",
    "\n",
    "print(np.log10(np.max(halo_mass_200mean)))\n",
    "print(np.log10(np.min(halo_mass_200mean[halo_mass_200mean != 0])))"
   ]
  },
  {
   "cell_type": "code",
   "execution_count": null,
   "id": "c8cc55f4-2844-484e-b4b0-8fd3ee4aea7b",
   "metadata": {},
   "outputs": [],
   "source": []
  }
 ],
 "metadata": {
  "kernelspec": {
   "display_name": "Python 3 (ipykernel)",
   "language": "python",
   "name": "python3"
  },
  "language_info": {
   "codemirror_mode": {
    "name": "ipython",
    "version": 3
   },
   "file_extension": ".py",
   "mimetype": "text/x-python",
   "name": "python",
   "nbconvert_exporter": "python",
   "pygments_lexer": "ipython3",
   "version": "3.11.5"
  }
 },
 "nbformat": 4,
 "nbformat_minor": 5
}
